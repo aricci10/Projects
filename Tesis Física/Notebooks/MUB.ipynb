{
 "cells": [
  {
   "cell_type": "code",
   "execution_count": 1,
   "metadata": {},
   "outputs": [
    {
     "name": "stdout",
     "output_type": "stream",
     "text": [
      "Populating the interactive namespace from numpy and matplotlib\n"
     ]
    }
   ],
   "source": [
    "%pylab inline\n",
    "from sympy import*\n",
    "from sympy.physics.quantum import TensorProduct\n",
    "from sympy.physics.quantum import Dagger\n",
    "init_printing(use_unicode=True)\n"
   ]
  },
  {
   "cell_type": "code",
   "execution_count": 2,
   "metadata": {
    "collapsed": true
   },
   "outputs": [],
   "source": [
    "#Creación de matrices de pauli\n",
    "s0 = Matrix([[1,0],[0,1]])\n",
    "s1 = Matrix([[0,1],[1,0]])\n",
    "s2 = Matrix([[0,-1j],[1j,0]])\n",
    "s3 = Matrix([[1,0],[0,-1]])\n",
    "pauli_matrices=[s0,s1,s2,s3]"
   ]
  },
  {
   "cell_type": "code",
   "execution_count": 3,
   "metadata": {
    "collapsed": true
   },
   "outputs": [],
   "source": [
    "#Creación de 5 clases, cada una con 3 elementos\n",
    "c_0=[TensorProduct(s3,s3),TensorProduct(s0,s3),TensorProduct(s3,s0)]\n",
    "c_1=[TensorProduct(s1,s1),TensorProduct(s0,s1),TensorProduct(s1,s0)]\n",
    "c_2=[TensorProduct(s2,s2),TensorProduct(s0,s2),TensorProduct(s2,s0)]\n",
    "c_3=[TensorProduct(s1,s2),TensorProduct(s3,s1),TensorProduct(s2,s3)]\n",
    "c_4=[TensorProduct(s2,s1),TensorProduct(s3,s2),TensorProduct(s1,s3)]"
   ]
  },
  {
   "cell_type": "code",
   "execution_count": 4,
   "metadata": {},
   "outputs": [
    {
     "name": "stdout",
     "output_type": "stream",
     "text": [
      "\\left[\\begin{matrix}0 & 0 & 0 & 1\\\\0 & 0 & 1 & 0\\\\0 & 1 & 0 & 0\\\\1 & 0 & 0 & 0\\end{matrix}\\right]\n"
     ]
    }
   ],
   "source": [
    "print(latex(c_1[0]))"
   ]
  },
  {
   "cell_type": "code",
   "execution_count": 5,
   "metadata": {},
   "outputs": [
    {
     "name": "stdout",
     "output_type": "stream",
     "text": [
      "\\left[\\begin{matrix}0 & 1 & 0 & 0\\\\1 & 0 & 0 & 0\\\\0 & 0 & 0 & 1\\\\0 & 0 & 1 & 0\\end{matrix}\\right]\n"
     ]
    }
   ],
   "source": [
    "print(latex(c_1[1]))"
   ]
  },
  {
   "cell_type": "code",
   "execution_count": 6,
   "metadata": {},
   "outputs": [
    {
     "name": "stdout",
     "output_type": "stream",
     "text": [
      "\\left[\\begin{matrix}0 & 0 & 1 & 0\\\\0 & 0 & 0 & 1\\\\1 & 0 & 0 & 0\\\\0 & 1 & 0 & 0\\end{matrix}\\right]\n"
     ]
    }
   ],
   "source": [
    "print(latex(c_1[0]*c_1[1]))"
   ]
  },
  {
   "cell_type": "code",
   "execution_count": 7,
   "metadata": {},
   "outputs": [
    {
     "data": {
      "image/png": "[encoded data removed]",
      "text/latex": [
       "$$\\left [ \\left ( -1.0, \\quad 2, \\quad \\left [ \\left[\\begin{matrix}0\\\\-1.0\\\\1.0\\\\0\\end{matrix}\\right], \\quad \\left[\\begin{matrix}1.0\\\\0\\\\0\\\\1.0\\end{matrix}\\right]\\right ]\\right ), \\quad \\left ( 1.0, \\quad 2, \\quad \\left [ \\left[\\begin{matrix}0\\\\1.0\\\\1.0\\\\0\\end{matrix}\\right], \\quad \\left[\\begin{matrix}-1.0\\\\0\\\\0\\\\1.0\\end{matrix}\\right]\\right ]\\right )\\right ]$$"
      ],
      "text/plain": [
       "⎡⎛         ⎡⎡ 0  ⎤  ⎡1.0⎤⎤⎞  ⎛        ⎡⎡ 0 ⎤  ⎡-1.0⎤⎤⎞⎤\n",
       "⎢⎜         ⎢⎢    ⎥  ⎢   ⎥⎥⎟  ⎜        ⎢⎢   ⎥  ⎢    ⎥⎥⎟⎥\n",
       "⎢⎜         ⎢⎢-1.0⎥  ⎢ 0 ⎥⎥⎟  ⎜        ⎢⎢1.0⎥  ⎢ 0  ⎥⎥⎟⎥\n",
       "⎢⎜-1.0, 2, ⎢⎢    ⎥, ⎢   ⎥⎥⎟, ⎜1.0, 2, ⎢⎢   ⎥, ⎢    ⎥⎥⎟⎥\n",
       "⎢⎜         ⎢⎢1.0 ⎥  ⎢ 0 ⎥⎥⎟  ⎜        ⎢⎢1.0⎥  ⎢ 0  ⎥⎥⎟⎥\n",
       "⎢⎜         ⎢⎢    ⎥  ⎢   ⎥⎥⎟  ⎜        ⎢⎢   ⎥  ⎢    ⎥⎥⎟⎥\n",
       "⎣⎝         ⎣⎣ 0  ⎦  ⎣1.0⎦⎦⎠  ⎝        ⎣⎣ 0 ⎦  ⎣1.0 ⎦⎦⎠⎦"
      ]
     },
     "execution_count": 7,
     "metadata": {},
     "output_type": "execute_result"
    }
   ],
   "source": [
    "#Busco vectores que diagonalizan las 3 matrices de cada clase\n",
    "(c_2[0].eigenvects())"
   ]
  },
  {
   "cell_type": "code",
   "execution_count": 8,
   "metadata": {},
   "outputs": [
    {
     "data": {
      "image/png": "[encoded data removed]",
      "text/latex": [
       "$$\\left [ \\left ( -1.0, \\quad 2, \\quad \\left [ \\left[\\begin{matrix}1.0 i\\\\1.0\\\\0\\\\0\\end{matrix}\\right], \\quad \\left[\\begin{matrix}0\\\\0\\\\1.0 i\\\\1.0\\end{matrix}\\right]\\right ]\\right ), \\quad \\left ( 1.0, \\quad 2, \\quad \\left [ \\left[\\begin{matrix}- 1.0 i\\\\1.0\\\\0\\\\0\\end{matrix}\\right], \\quad \\left[\\begin{matrix}0\\\\0\\\\- 1.0 i\\\\1.0\\end{matrix}\\right]\\right ]\\right )\\right ]$$"
      ],
      "text/plain": [
       "⎡⎛         ⎡⎡1.0⋅ⅈ⎤  ⎡  0  ⎤⎤⎞  ⎛        ⎡⎡-1.0⋅ⅈ⎤  ⎡  0   ⎤⎤⎞⎤\n",
       "⎢⎜         ⎢⎢     ⎥  ⎢     ⎥⎥⎟  ⎜        ⎢⎢      ⎥  ⎢      ⎥⎥⎟⎥\n",
       "⎢⎜         ⎢⎢ 1.0 ⎥  ⎢  0  ⎥⎥⎟  ⎜        ⎢⎢ 1.0  ⎥  ⎢  0   ⎥⎥⎟⎥\n",
       "⎢⎜-1.0, 2, ⎢⎢     ⎥, ⎢     ⎥⎥⎟, ⎜1.0, 2, ⎢⎢      ⎥, ⎢      ⎥⎥⎟⎥\n",
       "⎢⎜         ⎢⎢  0  ⎥  ⎢1.0⋅ⅈ⎥⎥⎟  ⎜        ⎢⎢  0   ⎥  ⎢-1.0⋅ⅈ⎥⎥⎟⎥\n",
       "⎢⎜         ⎢⎢     ⎥  ⎢     ⎥⎥⎟  ⎜        ⎢⎢      ⎥  ⎢      ⎥⎥⎟⎥\n",
       "⎣⎝         ⎣⎣  0  ⎦  ⎣ 1.0 ⎦⎦⎠  ⎝        ⎣⎣  0   ⎦  ⎣ 1.0  ⎦⎦⎠⎦"
      ]
     },
     "execution_count": 8,
     "metadata": {},
     "output_type": "execute_result"
    }
   ],
   "source": [
    "(c_2[1].eigenvects())"
   ]
  },
  {
   "cell_type": "code",
   "execution_count": 9,
   "metadata": {},
   "outputs": [
    {
     "data": {
      "image/png": "[encoded data removed]",
      "text/latex": [
       "$$\\left [ \\left ( -1.0, \\quad 2, \\quad \\left [ \\left[\\begin{matrix}1.0 i\\\\0\\\\1.0\\\\0\\end{matrix}\\right], \\quad \\left[\\begin{matrix}0\\\\1.0 i\\\\0\\\\1.0\\end{matrix}\\right]\\right ]\\right ), \\quad \\left ( 1.0, \\quad 2, \\quad \\left [ \\left[\\begin{matrix}- 1.0 i\\\\0\\\\1.0\\\\0\\end{matrix}\\right], \\quad \\left[\\begin{matrix}0\\\\- 1.0 i\\\\0\\\\1.0\\end{matrix}\\right]\\right ]\\right )\\right ]$$"
      ],
      "text/plain": [
       "⎡⎛         ⎡⎡1.0⋅ⅈ⎤  ⎡  0  ⎤⎤⎞  ⎛        ⎡⎡-1.0⋅ⅈ⎤  ⎡  0   ⎤⎤⎞⎤\n",
       "⎢⎜         ⎢⎢     ⎥  ⎢     ⎥⎥⎟  ⎜        ⎢⎢      ⎥  ⎢      ⎥⎥⎟⎥\n",
       "⎢⎜         ⎢⎢  0  ⎥  ⎢1.0⋅ⅈ⎥⎥⎟  ⎜        ⎢⎢  0   ⎥  ⎢-1.0⋅ⅈ⎥⎥⎟⎥\n",
       "⎢⎜-1.0, 2, ⎢⎢     ⎥, ⎢     ⎥⎥⎟, ⎜1.0, 2, ⎢⎢      ⎥, ⎢      ⎥⎥⎟⎥\n",
       "⎢⎜         ⎢⎢ 1.0 ⎥  ⎢  0  ⎥⎥⎟  ⎜        ⎢⎢ 1.0  ⎥  ⎢  0   ⎥⎥⎟⎥\n",
       "⎢⎜         ⎢⎢     ⎥  ⎢     ⎥⎥⎟  ⎜        ⎢⎢      ⎥  ⎢      ⎥⎥⎟⎥\n",
       "⎣⎝         ⎣⎣  0  ⎦  ⎣ 1.0 ⎦⎦⎠  ⎝        ⎣⎣  0   ⎦  ⎣ 1.0  ⎦⎦⎠⎦"
      ]
     },
     "execution_count": 9,
     "metadata": {},
     "output_type": "execute_result"
    }
   ],
   "source": [
    "(c_2[2].eigenvects())"
   ]
  },
  {
   "cell_type": "code",
   "execution_count": 10,
   "metadata": {},
   "outputs": [
    {
     "data": {
      "image/png": "[encoded data removed]",
      "text/latex": [
       "$$\\left[\\begin{matrix}0 & 0 & - 1.0 i & 0\\\\0 & 0 & 0 & - 1.0 i\\\\1.0 i & 0 & 0 & 0\\\\0 & 1.0 i & 0 & 0\\end{matrix}\\right]$$"
      ],
      "text/plain": [
       "⎡  0      0    -1.0⋅ⅈ    0   ⎤\n",
       "⎢                            ⎥\n",
       "⎢  0      0      0     -1.0⋅ⅈ⎥\n",
       "⎢                            ⎥\n",
       "⎢1.0⋅ⅈ    0      0       0   ⎥\n",
       "⎢                            ⎥\n",
       "⎣  0    1.0⋅ⅈ    0       0   ⎦"
      ]
     },
     "execution_count": 10,
     "metadata": {},
     "output_type": "execute_result"
    }
   ],
   "source": [
    "#Pruebo que los elementos de la clase conmutan\n",
    "c_2[0]*c_2[1]"
   ]
  },
  {
   "cell_type": "code",
   "execution_count": 11,
   "metadata": {},
   "outputs": [
    {
     "data": {
      "image/png": "[encoded data removed]",
      "text/latex": [
       "$$\\left[\\begin{matrix}0 & 0 & - 1.0 i & 0\\\\0 & 0 & 0 & - 1.0 i\\\\1.0 i & 0 & 0 & 0\\\\0 & 1.0 i & 0 & 0\\end{matrix}\\right]$$"
      ],
      "text/plain": [
       "⎡  0      0    -1.0⋅ⅈ    0   ⎤\n",
       "⎢                            ⎥\n",
       "⎢  0      0      0     -1.0⋅ⅈ⎥\n",
       "⎢                            ⎥\n",
       "⎢1.0⋅ⅈ    0      0       0   ⎥\n",
       "⎢                            ⎥\n",
       "⎣  0    1.0⋅ⅈ    0       0   ⎦"
      ]
     },
     "execution_count": 11,
     "metadata": {},
     "output_type": "execute_result"
    }
   ],
   "source": [
    "c_2[1]*c_2[0]"
   ]
  },
  {
   "cell_type": "code",
   "execution_count": 12,
   "metadata": {
    "collapsed": true
   },
   "outputs": [],
   "source": [
    "#Elementos de la base 1\n",
    "M00=Matrix([1,0,0,0])\n",
    "M01=Matrix([0,1,0,0])\n",
    "M02=Matrix([0,0,1,0])\n",
    "M03=Matrix([0,0,0,1])\n",
    "\n",
    "#Elementos de la base 2\n",
    "M10=Matrix([1/2,1/2,1/2,1/2])\n",
    "M11=Matrix([1/2,1/2,-1/2,-1/2])\n",
    "M12=Matrix([1/2,-1/2,-1/2,1/2])\n",
    "M13=Matrix([1/2,-1/2,1/2,-1/2])\n",
    "\n",
    "#Elementos de la base 3\n",
    "M20=Matrix([1/2,-1/2,-(1/2)*1j,-(1/2)*1j])\n",
    "M21=Matrix([1/2,-1/2,(1/2)*1j,(1/2)*1j])\n",
    "M22=Matrix([1/2,1/2,(1/2)*1j,-(1/2)*1j])\n",
    "M23=Matrix([1/2,1/2,-(1/2)*1j,(1/2)*1j])\n",
    "\n",
    "#Elementos de la base 4\n",
    "M30=Matrix([1/2,-(1/2)*1j,-(1/2)*1j,-1/2])\n",
    "M31=Matrix([1/2,-(1/2)*1j,(1/2)*1j,1/2])\n",
    "M32=Matrix([1/2,(1/2)*1j,(1/2)*1j,-1/2])\n",
    "M33=Matrix([1/2,(1/2)*1j,-(1/2)*1j,1/2])\n",
    "\n",
    "#Elementos de la base 5\n",
    "M40=Matrix([1/2,-(1/2)*1j,-1/2,-(1/2)*1j])\n",
    "M41=Matrix([1/2,-(1/2)*1j,1/2,(1/2)*1j])\n",
    "M42=Matrix([1/2,(1/2)*1j,1/2,-(1/2)*1j])\n",
    "M43=Matrix([1/2,(1/2)*1j,-1/2,(1/2)*1j])\n",
    "\n",
    "B0=[M00,M01,M02,M03]\n",
    "B1=[M10,M11,M12,M13]\n",
    "B2=[M20,M21,M22,M23]\n",
    "B3=[M30,M31,M32,M33]\n",
    "B4=[M40,M41,M42,M43]\n",
    "\n",
    "Bases=[B0,B1,B2,B3,B4]"
   ]
  },
  {
   "cell_type": "code",
   "execution_count": 13,
   "metadata": {
    "collapsed": true
   },
   "outputs": [],
   "source": [
    "proyectores=[]\n",
    "for base in Bases:\n",
    "    for element in base:\n",
    "        proyectores.append((element*Dagger(element)))\n",
    "        \n",
    "probabilidades=[0,1,0,0,(1/4),(1/4),(1/4),(1/4),(1/4),(1/4),(1/4),(1/4),(1/4),(1/4),(1/4),(1/4),(1/4),(1/4),(1/4),(1/4)]\n",
    "\n",
    "I=Matrix([[1,0,0,0],[0,1,0,0],[0,0,1,0],[0,0,0,1]])"
   ]
  },
  {
   "cell_type": "code",
   "execution_count": 14,
   "metadata": {
    "collapsed": true
   },
   "outputs": [],
   "source": [
    "Prueba=Matrix([[0,0,0,0],[0,0,0,0],[0,0,0,0],[0,0,0,0]])\n",
    "for i in range (20):\n",
    "    Prueba+=probabilidades[i]*(proyectores[i]-(1/5)*I)\n",
    "    "
   ]
  },
  {
   "cell_type": "code",
   "execution_count": 15,
   "metadata": {},
   "outputs": [
    {
     "data": {
      "image/png": "[encoded data removed]",
      "text/latex": [
       "$$\\left[\\begin{matrix}1.38777878078145 \\cdot 10^{-17} & 0 & 0 & 0\\\\0 & 0.999999999999999 & 0 & 0\\\\0 & 0 & 1.38777878078145 \\cdot 10^{-17} & 0\\\\0 & 0 & 0 & 1.38777878078145 \\cdot 10^{-17}\\end{matrix}\\right]$$"
      ],
      "text/plain": [
       "⎡1.38777878078145e-17          0                   0                     0    \n",
       "⎢                                                                             \n",
       "⎢         0            0.999999999999999           0                     0    \n",
       "⎢                                                                             \n",
       "⎢         0                    0          1.38777878078145e-17           0    \n",
       "⎢                                                                             \n",
       "⎣         0                    0                   0            1.387778780781\n",
       "\n",
       "      ⎤\n",
       "      ⎥\n",
       "      ⎥\n",
       "      ⎥\n",
       "      ⎥\n",
       "      ⎥\n",
       "45e-17⎦"
      ]
     },
     "execution_count": 15,
     "metadata": {},
     "output_type": "execute_result"
    }
   ],
   "source": [
    "Prueba"
   ]
  },
  {
   "cell_type": "code",
   "execution_count": 16,
   "metadata": {
    "collapsed": true
   },
   "outputs": [],
   "source": [
    "sx1 = Matrix([1/sqrt(2),1/sqrt(2)])\n",
    "sx2 = Matrix([1/sqrt(2),-1/sqrt(2)])\n",
    "sy1 = Matrix([1/sqrt(2),1j/sqrt(2)])\n",
    "sy2 = Matrix([1/sqrt(2),-1j/sqrt(2)])\n",
    "sz1 = Matrix([1,0])\n",
    "sz2 = Matrix([0,1])\n",
    "I = Matrix([[1,0],[0,1]])\n",
    "     \n",
    "vectors=[sx1,sx2,sy1,sy2,sz1,sz2]\n",
    "proyectores=[]\n",
    "for element in vectors:\n",
    "    proyectores.append((element*Dagger(element)))\n",
    "\n",
    "probabilidades=[0.214889307913,0.785110692087,0.800884090287,0.199115909713,0.580230121114,0.419769878886]\n",
    "Prueba=Matrix([[0,0],[0,0]])\n",
    "for i in range (6):\n",
    "    Prueba+=probabilidades[i]*(proyectores[i]-(1/3)*I)\n",
    "\n",
    "    "
   ]
  },
  {
   "cell_type": "code",
   "execution_count": 17,
   "metadata": {},
   "outputs": [
    {
     "data": {
      "image/png": "[encoded data removed]",
      "text/latex": [
       "$$\\left[\\begin{matrix}0.580230121114 & -0.285110692087 - 0.300884090287 i\\\\-0.285110692087 + 0.300884090287 i & 0.419769878886\\end{matrix}\\right]$$"
      ],
      "text/plain": [
       "⎡          0.580230121114            -0.285110692087 - 0.300884090287⋅ⅈ⎤\n",
       "⎢                                                                      ⎥\n",
       "⎣-0.285110692087 + 0.300884090287⋅ⅈ            0.419769878886          ⎦"
      ]
     },
     "execution_count": 17,
     "metadata": {},
     "output_type": "execute_result"
    }
   ],
   "source": [
    "Prueba"
   ]
  },
  {
   "cell_type": "code",
   "execution_count": 18,
   "metadata": {
    "collapsed": true
   },
   "outputs": [],
   "source": [
    "#Definir vectores propios matrices de pauli\n",
    "sx1 = Matrix([1/sqrt(2),1/sqrt(2)])\n",
    "sx2 = Matrix([1/sqrt(2),-1/sqrt(2)])\n",
    "sy1 = Matrix([1/sqrt(2),1j/sqrt(2)])\n",
    "sy2 = Matrix([1/sqrt(2),-1j/sqrt(2)])\n",
    "sz1 = Matrix([1,0])\n",
    "sz2 = Matrix([0,1])\n",
    "Id = Matrix([[1,0],[0,1]])\n",
    "     \n",
    "vectors=[sx1,sx2,sy1,sy2,sz1,sz2]\n",
    "\n",
    "#crear proyectores\n",
    "proyectores=[]\n",
    "for element in vectors:\n",
    "    proyectores.append((element*Dagger(element)))"
   ]
  },
  {
   "cell_type": "code",
   "execution_count": 70,
   "metadata": {},
   "outputs": [
    {
     "data": {
      "image/png": "[encoded data removed]",
      "text/latex": [
       "$$\\left[\\begin{matrix}-1\\\\0\\\\1\\\\0\\end{matrix}\\right]$$"
      ],
      "text/plain": [
       "⎡-1⎤\n",
       "⎢  ⎥\n",
       "⎢0 ⎥\n",
       "⎢  ⎥\n",
       "⎢1 ⎥\n",
       "⎢  ⎥\n",
       "⎣0 ⎦"
      ]
     },
     "execution_count": 70,
     "metadata": {},
     "output_type": "execute_result"
    }
   ],
   "source": [
    "(c_4[2]).eigenvects()[0][2][0]"
   ]
  },
  {
   "cell_type": "code",
   "execution_count": 71,
   "metadata": {},
   "outputs": [
    {
     "data": {
      "image/png": "[encoded data removed]",
      "text/latex": [
       "$$\\left[\\begin{matrix}0\\\\1\\\\0\\\\1\\end{matrix}\\right]$$"
      ],
      "text/plain": [
       "⎡0⎤\n",
       "⎢ ⎥\n",
       "⎢1⎥\n",
       "⎢ ⎥\n",
       "⎢0⎥\n",
       "⎢ ⎥\n",
       "⎣1⎦"
      ]
     },
     "execution_count": 71,
     "metadata": {},
     "output_type": "execute_result"
    }
   ],
   "source": [
    "(c_4[2]).eigenvects()[0][2][1]"
   ]
  },
  {
   "cell_type": "code",
   "execution_count": 72,
   "metadata": {},
   "outputs": [
    {
     "data": {
      "image/png": "[encoded data removed]",
      "text/latex": [
       "$$\\left[\\begin{matrix}1\\\\0\\\\1\\\\0\\end{matrix}\\right]$$"
      ],
      "text/plain": [
       "⎡1⎤\n",
       "⎢ ⎥\n",
       "⎢0⎥\n",
       "⎢ ⎥\n",
       "⎢1⎥\n",
       "⎢ ⎥\n",
       "⎣0⎦"
      ]
     },
     "execution_count": 72,
     "metadata": {},
     "output_type": "execute_result"
    }
   ],
   "source": [
    "(c_4[2]).eigenvects()[1][2][0]"
   ]
  },
  {
   "cell_type": "code",
   "execution_count": 73,
   "metadata": {},
   "outputs": [
    {
     "data": {
      "image/png": "[encoded data removed]",
      "text/latex": [
       "$$\\left[\\begin{matrix}0\\\\-1\\\\0\\\\1\\end{matrix}\\right]$$"
      ],
      "text/plain": [
       "⎡0 ⎤\n",
       "⎢  ⎥\n",
       "⎢-1⎥\n",
       "⎢  ⎥\n",
       "⎢0 ⎥\n",
       "⎢  ⎥\n",
       "⎣1 ⎦"
      ]
     },
     "execution_count": 73,
     "metadata": {},
     "output_type": "execute_result"
    }
   ],
   "source": [
    "(c_4[2]).eigenvects()[1][2][1]"
   ]
  },
  {
   "cell_type": "code",
   "execution_count": 68,
   "metadata": {},
   "outputs": [
    {
     "data": {
      "image/png": "[encoded data removed]",
      "text/latex": [
       "$$\\left[\\begin{matrix}0\\\\- 1.0 i\\\\0\\\\1.0 i\\end{matrix}\\right]$$"
      ],
      "text/plain": [
       "⎡  0   ⎤\n",
       "⎢      ⎥\n",
       "⎢-1.0⋅ⅈ⎥\n",
       "⎢      ⎥\n",
       "⎢  0   ⎥\n",
       "⎢      ⎥\n",
       "⎣1.0⋅ⅈ ⎦"
      ]
     },
     "execution_count": 68,
     "metadata": {},
     "output_type": "execute_result"
    }
   ],
   "source": [
    "c_4[0]*((c_4[2]).eigenvects()[1][2][0])"
   ]
  },
  {
   "cell_type": "code",
   "execution_count": 174,
   "metadata": {},
   "outputs": [],
   "source": [
    "S1=(1/2)*TensorProduct((s1+s3),(s1+s3))\n",
    "S2=(1/2)*TensorProduct((s0-1j*s1),(s0-1j*s1))\n",
    "S3=(1/2)*(TensorProduct(s0,s0)+TensorProduct(s2,s0)-1j*TensorProduct(s0,s2)+1j*TensorProduct(s2,s2))\n",
    "S4=(1/2)*(TensorProduct(s0,s0)-1j*TensorProduct(s2,s0)-1j*TensorProduct(s1,s1)-1j*TensorProduct(s3,s1))"
   ]
  },
  {
   "cell_type": "code",
   "execution_count": 161,
   "metadata": {},
   "outputs": [
    {
     "data": {
      "image/png": "[encoded data removed]",
      "text/latex": [
       "$$\\left [ \\left ( 1.0, \\quad 2, \\quad \\left [ \\left[\\begin{matrix}0\\\\-1.0\\\\1.0\\\\0\\end{matrix}\\right], \\quad \\left[\\begin{matrix}-1.0\\\\0\\\\0\\\\1.0\\end{matrix}\\right]\\right ]\\right ), \\quad \\left ( - 1.0 i, \\quad 1, \\quad \\left [ \\left[\\begin{matrix}1.0 - 6.7762635780344 \\cdot 10^{-21} i\\\\1.0\\\\1.0\\\\1.0\\end{matrix}\\right]\\right ]\\right ), \\quad \\left ( 1.0 i, \\quad 1, \\quad \\left [ \\left[\\begin{matrix}1.0 + 6.7762635780344 \\cdot 10^{-21} i\\\\-1.0\\\\-1.0\\\\1.0\\end{matrix}\\right]\\right ]\\right )\\right ]$$"
      ],
      "text/plain": [
       "⎡⎛        ⎡⎡ 0  ⎤  ⎡-1.0⎤⎤⎞  ⎛           ⎡⎡1.0 - 6.7762635780344e-21⋅ⅈ⎤⎤⎞  ⎛  \n",
       "⎢⎜        ⎢⎢    ⎥  ⎢    ⎥⎥⎟  ⎜           ⎢⎢                           ⎥⎥⎟  ⎜  \n",
       "⎢⎜        ⎢⎢-1.0⎥  ⎢ 0  ⎥⎥⎟  ⎜           ⎢⎢            1.0            ⎥⎥⎟  ⎜  \n",
       "⎢⎜1.0, 2, ⎢⎢    ⎥, ⎢    ⎥⎥⎟, ⎜-1.0⋅ⅈ, 1, ⎢⎢                           ⎥⎥⎟, ⎜1.\n",
       "⎢⎜        ⎢⎢1.0 ⎥  ⎢ 0  ⎥⎥⎟  ⎜           ⎢⎢            1.0            ⎥⎥⎟  ⎜  \n",
       "⎢⎜        ⎢⎢    ⎥  ⎢    ⎥⎥⎟  ⎜           ⎢⎢                           ⎥⎥⎟  ⎜  \n",
       "⎣⎝        ⎣⎣ 0  ⎦  ⎣1.0 ⎦⎦⎠  ⎝           ⎣⎣            1.0            ⎦⎦⎠  ⎝  \n",
       "\n",
       "        ⎡⎡1.0 + 6.7762635780344e-21⋅ⅈ⎤⎤⎞⎤\n",
       "        ⎢⎢                           ⎥⎥⎟⎥\n",
       "        ⎢⎢           -1.0            ⎥⎥⎟⎥\n",
       "0⋅ⅈ, 1, ⎢⎢                           ⎥⎥⎟⎥\n",
       "        ⎢⎢           -1.0            ⎥⎥⎟⎥\n",
       "        ⎢⎢                           ⎥⎥⎟⎥\n",
       "        ⎣⎣            1.0            ⎦⎦⎠⎦"
      ]
     },
     "execution_count": 161,
     "metadata": {},
     "output_type": "execute_result"
    }
   ],
   "source": [
    "S2.eigenvects()"
   ]
  },
  {
   "cell_type": "code",
   "execution_count": 194,
   "metadata": {},
   "outputs": [
    {
     "data": {
      "image/png": "[encoded data removed]",
      "text/latex": [
       "$$\\left[\\begin{matrix}0\\\\0\\\\0\\\\- 1.0 i\\end{matrix}\\right]$$"
      ],
      "text/plain": [
       "⎡  0   ⎤\n",
       "⎢      ⎥\n",
       "⎢  0   ⎥\n",
       "⎢      ⎥\n",
       "⎢  0   ⎥\n",
       "⎢      ⎥\n",
       "⎣-1.0⋅ⅈ⎦"
      ]
     },
     "execution_count": 194,
     "metadata": {},
     "output_type": "execute_result"
    }
   ],
   "source": [
    "b=B4[0]\n",
    "S4*b"
   ]
  },
  {
   "cell_type": "code",
   "execution_count": 182,
   "metadata": {},
   "outputs": [
    {
     "data": {
      "image/png": "[encoded data removed]",
      "text/latex": [
       "$$\\left[\\begin{matrix}0\\\\- 1.0 i\\\\0\\\\0\\end{matrix}\\right]$$"
      ],
      "text/plain": [
       "⎡  0   ⎤\n",
       "⎢      ⎥\n",
       "⎢-1.0⋅ⅈ⎥\n",
       "⎢      ⎥\n",
       "⎢  0   ⎥\n",
       "⎢      ⎥\n",
       "⎣  0   ⎦"
      ]
     },
     "execution_count": 182,
     "metadata": {},
     "output_type": "execute_result"
    }
   ],
   "source": [
    "b=B3[1]\n",
    "S2*b"
   ]
  },
  {
   "cell_type": "code",
   "execution_count": 181,
   "metadata": {},
   "outputs": [
    {
     "data": {
      "image/png": "[encoded data removed]",
      "text/latex": [
       "$$\\left[\\begin{matrix}1.0\\\\0\\\\0\\\\0\\end{matrix}\\right]$$"
      ],
      "text/plain": [
       "⎡1.0⎤\n",
       "⎢   ⎥\n",
       "⎢ 0 ⎥\n",
       "⎢   ⎥\n",
       "⎢ 0 ⎥\n",
       "⎢   ⎥\n",
       "⎣ 0 ⎦"
      ]
     },
     "execution_count": 181,
     "metadata": {},
     "output_type": "execute_result"
    }
   ],
   "source": [
    "b=B3[2]\n",
    "S2*b"
   ]
  },
  {
   "cell_type": "code",
   "execution_count": 180,
   "metadata": {},
   "outputs": [
    {
     "data": {
      "image/png": "[encoded data removed]",
      "text/latex": [
       "$$\\left[\\begin{matrix}0\\\\0\\\\- 1.0 i\\\\0\\end{matrix}\\right]$$"
      ],
      "text/plain": [
       "⎡  0   ⎤\n",
       "⎢      ⎥\n",
       "⎢  0   ⎥\n",
       "⎢      ⎥\n",
       "⎢-1.0⋅ⅈ⎥\n",
       "⎢      ⎥\n",
       "⎣  0   ⎦"
      ]
     },
     "execution_count": 180,
     "metadata": {},
     "output_type": "execute_result"
    }
   ],
   "source": [
    "b=B3[3]\n",
    "S2*b"
   ]
  },
  {
   "cell_type": "code",
   "execution_count": 195,
   "metadata": {},
   "outputs": [
    {
     "name": "stdout",
     "output_type": "stream",
     "text": [
      "\\left[\\begin{matrix}0.5 & - 0.5 i & -0.5 & - 0.5 i\\\\- 0.5 i & 0.5 & - 0.5 i & -0.5\\\\0.5 & - 0.5 i & 0.5 & 0.5 i\\\\- 0.5 i & 0.5 & 0.5 i & 0.5\\end{matrix}\\right]\n"
     ]
    }
   ],
   "source": [
    "print(latex(S4))"
   ]
  },
  {
   "cell_type": "code",
   "execution_count": 135,
   "metadata": {},
   "outputs": [
    {
     "data": {
      "image/png": "[encoded data removed]",
      "text/latex": [
       "$$\\left[\\begin{matrix}0 & 1\\\\1 & 0\\end{matrix}\\right]$$"
      ],
      "text/plain": [
       "⎡0  1⎤\n",
       "⎢    ⎥\n",
       "⎣1  0⎦"
      ]
     },
     "execution_count": 135,
     "metadata": {},
     "output_type": "execute_result"
    }
   ],
   "source": [
    "L*Dagger(R)+R*Dagger(L)"
   ]
  },
  {
   "cell_type": "code",
   "execution_count": 200,
   "metadata": {},
   "outputs": [
    {
     "data": {
      "image/png": "[encoded data removed]",
      "text/latex": [
       "$$\\left[\\begin{matrix}0.5 & - 0.5 i & -0.5 & - 0.5 i\\\\- 0.5 i & 0.5 & - 0.5 i & -0.5\\\\0.5 & - 0.5 i & 0.5 & 0.5 i\\\\- 0.5 i & 0.5 & 0.5 i & 0.5\\end{matrix}\\right]$$"
      ],
      "text/plain": [
       "⎡ 0.5    -0.5⋅ⅈ   -0.5   -0.5⋅ⅈ⎤\n",
       "⎢                              ⎥\n",
       "⎢-0.5⋅ⅈ   0.5    -0.5⋅ⅈ   -0.5 ⎥\n",
       "⎢                              ⎥\n",
       "⎢ 0.5    -0.5⋅ⅈ   0.5    0.5⋅ⅈ ⎥\n",
       "⎢                              ⎥\n",
       "⎣-0.5⋅ⅈ   0.5    0.5⋅ⅈ    0.5  ⎦"
      ]
     },
     "execution_count": 200,
     "metadata": {},
     "output_type": "execute_result"
    }
   ],
   "source": [
    "S4"
   ]
  },
  {
   "cell_type": "code",
   "execution_count": null,
   "metadata": {
    "collapsed": true
   },
   "outputs": [],
   "source": []
  }
 ],
 "metadata": {
  "kernelspec": {
   "display_name": "Python 3",
   "language": "python",
   "name": "python3"
  },
  "language_info": {
   "codemirror_mode": {
    "name": "ipython",
    "version": 3
   },
   "file_extension": ".py",
   "mimetype": "text/x-python",
   "name": "python",
   "nbconvert_exporter": "python",
   "pygments_lexer": "ipython3",
   "version": "3.6.4"
  }
 },
 "nbformat": 4,
 "nbformat_minor": 1
}
