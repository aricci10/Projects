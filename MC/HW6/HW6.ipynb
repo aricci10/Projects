{
 "cells": [
  {
   "cell_type": "code",
   "execution_count": 1,
   "metadata": {
    "collapsed": false
   },
   "outputs": [
    {
     "name": "stdout",
     "output_type": "stream",
     "text": [
      "Populating the interactive namespace from numpy and matplotlib\n"
     ]
    }
   ],
   "source": [
    "#Trabajo realizado por Alfredo Ricci Vásquez y Nicolás Rangel Jurado.\n",
    "%pylab inline\n",
    "from sympy import *\n",
    "init_printing(use_unicode=True)\n",
    "from scipy import interpolate as inte"
   ]
  },
  {
   "cell_type": "markdown",
   "metadata": {},
   "source": [
    "# Parte 1"
   ]
  },
  {
   "cell_type": "markdown",
   "metadata": {},
   "source": [
    "### Punto A"
   ]
  },
  {
   "cell_type": "code",
   "execution_count": 2,
   "metadata": {
    "collapsed": false
   },
   "outputs": [],
   "source": [
    "def lagrange(N):\n",
    "   \n",
    "    t,f,h= symbols('t f h')\n",
    "    \n",
    "    Ts=list([])\n",
    "    Fs=list([])\n",
    "    polis=[]\n",
    "        \n",
    "    for i in range (0,N):\n",
    "        \n",
    "        #Creamos dos listas de símbolos para operar posteriormente.\n",
    "        tt=symbols(\"t\"+ str(i))\n",
    "        f=symbols(\"f\"+ str(i))\n",
    "        Ts.append(tt)\n",
    "        Fs.append(f)\n",
    "        \n",
    "        poli=0\n",
    "        \n",
    "        \n",
    "        polis.append(Fs[i])  #Este es el primer factor del cada subpolinomio \n",
    "         \n",
    "    for x in range (0,N):\n",
    "        for j in range (0,N):\n",
    "            \n",
    "            if (j!=x):\n",
    "        \n",
    "                polis[x]=polis[x]*(t-Ts[j])\n",
    "                polis[x]=polis[x]/(Ts[x]-Ts[j])\n",
    "            \n",
    "    poli=sum(polis)        \n",
    "    \n",
    "    \n",
    "    return(poli)  "
   ]
  },
  {
   "cell_type": "code",
   "execution_count": 3,
   "metadata": {
    "collapsed": false
   },
   "outputs": [
    {
     "data": {
      "image/png": "[encoded data removed]",
      "text/latex": [
       "$$\\frac{f_{0} \\left(t - t_{1}\\right)}{t_{0} - t_{1}} + \\frac{f_{1} \\left(t - t_{0}\\right)}{- t_{0} + t_{1}}$$"
      ],
      "text/plain": [
       "f₀⋅(t - t₁)   f₁⋅(t - t₀)\n",
       "─────────── + ───────────\n",
       "  t₀ - t₁       -t₀ + t₁ "
      ]
     },
     "execution_count": 3,
     "metadata": {},
     "output_type": "execute_result"
    }
   ],
   "source": [
    "lagrange(2)"
   ]
  },
  {
   "cell_type": "markdown",
   "metadata": {},
   "source": [
    "### Punto B"
   ]
  },
  {
   "cell_type": "code",
   "execution_count": 4,
   "metadata": {
    "collapsed": false
   },
   "outputs": [],
   "source": [
    "def adams(m):\n",
    "    \n",
    "    fun=lagrange(m)\n",
    "    \n",
    "    t,f,h,t0= symbols('t f h t0')  #Declaro símbolos que aparecen en la función fun.\n",
    "    listaT=list(symbols('t:%d'%m)) #Crea m cantidad de símbolos para t.\n",
    "\n",
    "    listaTemp=[] #En esta lista guardaré los t's expresados en términos de t0 y h como lo pide el enunciado para poder hacer los reemplazos necesarios.\n",
    "    \n",
    "    for i in range(m):\n",
    "        \n",
    "        #Este ciclo justamente es para generar las igualdades descritas anteriormente.\n",
    "        igualdad=(listaT[i],listaT[0]-i*h)\n",
    "        listaTemp.append(igualdad)\n",
    "        \n",
    "    fun=fun.subs(listaTemp) #la función .subs me permite hacer los reemplazos necesarios para poder dejar todo el polinomio en funcion de dos términos.\n",
    "    resp=integrate((fun),(t,t0,t0+h))  #Se integra la función como pide el método Adams-Bashforth.\n",
    "    \n",
    "    return(simplify(resp))"
   ]
  },
  {
   "cell_type": "code",
   "execution_count": 5,
   "metadata": {
    "collapsed": false
   },
   "outputs": [
    {
     "data": {
      "image/png": "[encoded data removed]",
      "text/latex": [
       "$$\\frac{h}{720} \\left(1901 f_{0} - 2774 f_{1} + 2616 f_{2} - 1274 f_{3} + 251 f_{4}\\right)$$"
      ],
      "text/plain": [
       "h⋅(1901⋅f₀ - 2774⋅f₁ + 2616⋅f₂ - 1274⋅f₃ + 251⋅f₄)\n",
       "──────────────────────────────────────────────────\n",
       "                       720                        "
      ]
     },
     "execution_count": 5,
     "metadata": {},
     "output_type": "execute_result"
    }
   ],
   "source": [
    "adams(5)"
   ]
  },
  {
   "cell_type": "markdown",
   "metadata": {},
   "source": [
    "# Parte B"
   ]
  },
  {
   "cell_type": "markdown",
   "metadata": {},
   "source": [
    "### Punto A"
   ]
  },
  {
   "cell_type": "code",
   "execution_count": 6,
   "metadata": {
    "collapsed": false
   },
   "outputs": [
    {
     "name": "stdout",
     "output_type": "stream",
     "text": [
      "Populating the interactive namespace from numpy and matplotlib\n"
     ]
    },
    {
     "name": "stderr",
     "output_type": "stream",
     "text": [
      "WARNING: pylab import has clobbered these variables: ['roots', 'power', 'gamma', 'sinh', 'log', 'source', 'multinomial', 'take', 'ones', 'tan', 'invert', 'vectorize', 'seterr', 'zeros', 'cos', 'plotting', 'flatten', 'trunc', 'trace', 'solve', 'interactive', 'binomial', 'add', 'tanh', 'mod', 'floor', 'det', 'reshape', 'beta', 'pi', 'sqrt', 'exp', 'poly', 'conjugate', 'prod', 'eye', 'sign', 'diag', 'plot', 'sin', 'Polygon', 'var', 'cosh', 'Circle', 'transpose', 'diff', 'product', 'test', 'nan']\n",
      "`%matplotlib` prevents importing * from pylab and numpy\n"
     ]
    }
   ],
   "source": [
    "%pylab inline"
   ]
  },
  {
   "cell_type": "code",
   "execution_count": 7,
   "metadata": {
    "collapsed": false
   },
   "outputs": [
    {
     "name": "stderr",
     "output_type": "stream",
     "text": [
      "/Users/AlfredoRicci/anaconda/lib/python3.4/site-packages/IPython/kernel/__main__.py:21: RuntimeWarning: divide by zero encountered in true_divide\n"
     ]
    }
   ],
   "source": [
    "#DEfinimos las constantes a usar en el prblema\n",
    "g=6.67348*10**(-11) # unidades SI\n",
    "den=400*4*pi*g # en kg/m3 la densidad\n",
    "L=3000 # en m\n",
    "Nl=101 # para tener 3km\n",
    "xmin=-L/2\n",
    "xmax= L/2\n",
    "ymin=-L/2\n",
    "ymax= L/2\n",
    "zmin=-L/2\n",
    "zmax=-L/2\n",
    "#Creamos las coordenadas de los tres ejes\n",
    "xcoords=np.linspace(xmin,xmax,Nl)\n",
    "ycoords=np.linspace(ymin,ymax,Nl)\n",
    "zcoords=np.linspace(ymin,ymax,Nl)\n",
    "xmesh,ymesh,zmesh=np.meshgrid(xcoords,ycoords,zcoords)\n",
    "Dx=(xmax-xmin)/Nl\n",
    "density=np.zeros((Nl,Nl,Nl))\n",
    "#ajustamos el cubo, como una densidad particular\n",
    "density[47:55,47:55,47:55]=den          \n",
    "field=g*400*270**3/sqrt(xmesh**2+ymesh**2+zmesh**2)  \n",
    "#evitamos la divisón entre cero.\n",
    "field[50,50,50]=field[50,50,49]\n",
    "NumIter=5000"
   ]
  },
  {
   "cell_type": "code",
   "execution_count": null,
   "metadata": {
    "collapsed": false
   },
   "outputs": [],
   "source": [
    "#iteramos para poder solucionar la ecuación.\n",
    "scaled_density=Dx**2*density\n",
    "for __ in range(NumIter):\n",
    "    field=1/6.*(np.roll(field,1,axis=0)+np.roll(field,-1,axis=0)+np.roll(field,1,axis=1)+np.roll(field,-1,axis=1)+np.roll(field,1,axis=2)+np.roll(field,-1,axis=2)-scaled_density)\n",
    "    field[0]=0.\n",
    "    field[-1]=0.\n",
    "    field[:,0]=0.\n",
    "    field[:,-1]=0.\n",
    "    field[:,:,0]=0.\n",
    "    field[:,:,-1]=0."
   ]
  },
  {
   "cell_type": "code",
   "execution_count": null,
   "metadata": {
    "collapsed": false
   },
   "outputs": [],
   "source": [
    "#Graficamos lo encontrado.\n",
    "figure(figsize=(12,10))\n",
    "planoyz=field[51]\n",
    "plt.pcolor(ymesh[:,51],zmesh[51],planoyz,cmap='gist_heat')\n",
    "plt.colorbar()\n",
    "plt.contour(ymesh[:,51],zmesh[51],planoyz,[-16,-8,-4,-2,-1],color='black')\n",
    "plt.xlim(xmin,xmax)\n",
    "plt.ylim(ymin,ymax)\n",
    "title(\"Potencial Gravitacional\")\n",
    "ylabel(\"y(m)\")\n",
    "xlabel(\"z(m)\")\n",
    "plt.show()"
   ]
  },
  {
   "cell_type": "markdown",
   "metadata": {},
   "source": [
    "### Punto B"
   ]
  },
  {
   "cell_type": "code",
   "execution_count": null,
   "metadata": {
    "collapsed": false
   },
   "outputs": [],
   "source": [
    "#Se grafica un corte transversal\n",
    "figure(figsize(10,10))\n",
    "planoyz=field[51]\n",
    "ejez=field[51,51]\n",
    "plot(zcoords,ejez,\"o\",ms=3)\n",
    "title(\"Potencial Gravitacional\")\n",
    "ylabel(\"Potencial\")\n",
    "ylabel(\"z(m)\")"
   ]
  },
  {
   "cell_type": "code",
   "execution_count": null,
   "metadata": {
    "collapsed": false
   },
   "outputs": [],
   "source": [
    "#Se repite el proceso anterior, usando varias masas puntuales\n",
    "masaN=(400*270**3)/(9**3)\n",
    "field1=g*masaN/sqrt(xmesh**2+ymesh**2+zmesh**2)\n",
    "scaled_density=Dx**2*density\n",
    "for __ in range(NumIter):\n",
    "    field1=1/6.*(np.roll(field,1,axis=0)+np.roll(field,-1,axis=0)+np.roll(field,1,axis=1)+np.roll(field,-1,axis=1)+np.roll(field,1,axis=2)+np.roll(field,-1,axis=2)-scaled_density)\n",
    "    field1[0]=0.\n",
    "    field1[-1]=0.\n",
    "    field1[:,0]=0.\n",
    "    field1[:,-1]=0.\n",
    "    field1[:,:,0]=0.\n",
    "    field1[:,:,-1]=0.\n",
    "field1=field1*(9**3)\n",
    "field1[50,50,50]=field1[50,50,49]"
   ]
  },
  {
   "cell_type": "code",
   "execution_count": null,
   "metadata": {
    "collapsed": false
   },
   "outputs": [],
   "source": [
    "#Se grafica un corte transversal\n",
    "figure(figsize(10,10))\n",
    "planoyz=field[51]\n",
    "ejez=field[51,51]\n",
    "ejez1=field1[51,51]\n",
    "plot(zcoords,ejez1)\n",
    "plot(zcoords,ejez,\"o\",ms=3)\n",
    "title(\"Potencial Gravitacional\")\n",
    "ylabel(\"Potencial\")\n",
    "ylabel(\"z(m)\")"
   ]
  },
  {
   "cell_type": "markdown",
   "metadata": {},
   "source": [
    "### Punto C"
   ]
  },
  {
   "cell_type": "code",
   "execution_count": null,
   "metadata": {
    "collapsed": false
   },
   "outputs": [],
   "source": [
    "zforward = np.roll(ejez,-1) # toma el arreglo y y lo mueve una posición hacia la izquierda\n",
    "zbackward = np.roll(ejez,1)\n",
    "derpot = (zforward-zbackward)/(2.)\n",
    "\n",
    "#Se cmabia de signo debido a la que es \"Menos la derivada\"\n",
    "derpot=-1*derpot\n",
    "#Se eliminan el primer y último dato\n",
    "derpot=derpot[1:-1]"
   ]
  },
  {
   "cell_type": "code",
   "execution_count": null,
   "metadata": {
    "collapsed": false
   },
   "outputs": [],
   "source": [
    "figure(figsize(10,10))\n",
    "plot(zcoords[1:-1],derpot,\"o\",ms=3)\n",
    "title(\"Campo gravitatorio\")\n",
    "xlabel(\"z(m)\")\n",
    "ylabel(\"Campo gravitatorio\")"
   ]
  },
  {
   "cell_type": "markdown",
   "metadata": {},
   "source": [
    "### Punto D"
   ]
  },
  {
   "cell_type": "code",
   "execution_count": null,
   "metadata": {
    "collapsed": false
   },
   "outputs": [],
   "source": [
    "#Interpolamos los datos.\n",
    "interpol=inte.interpolate.interp1d(zcoords[1:-1],derpot)"
   ]
  },
  {
   "cell_type": "code",
   "execution_count": null,
   "metadata": {
    "collapsed": false
   },
   "outputs": [],
   "source": [
    "#Se usan ecuaciones de movimiento rectilineo, durante tramos cortos para aproximar el movimiento\n",
    "def VelocidadFinal(vo,a,x):\n",
    "    #Definimos velocidad final, en terminos de velocidad inicial aceleración y distancia.\n",
    "    vf=-1*sqrt(abs(vo**2+2*a*x))\n",
    "    return(vf)"
   ]
  },
  {
   "cell_type": "code",
   "execution_count": null,
   "metadata": {
    "collapsed": false
   },
   "outputs": [],
   "source": [
    "def darDeltaT(vo,vf,a):\n",
    "    #entregamos el tiempo en ese pequeño intervalo de distancia.\n",
    "    return (vf-vo)/a"
   ]
  },
  {
   "cell_type": "code",
   "execution_count": null,
   "metadata": {
    "collapsed": false
   },
   "outputs": [],
   "source": [
    "#definimos constantes iniciales\n",
    "xi=500\n",
    "vi=0\n",
    "xstep=-0.01\n",
    "tiempoTot=0\n",
    "#Recorremos hasta llegar a la cara\n",
    "while(xi>0):\n",
    "    #Encontramos el cambio de tiempo para el instante.\n",
    "    dt=darDeltaT(vi,VelocidadFinal(vi,interpol(xi),xstep),interpol(xi))\n",
    "    tiempoTot+=dt\n",
    "    xi+=xstep\n",
    "    vi=VelocidadFinal(vi,interpol(xi),xstep)# Ajustamos la nueva velocidad inicial, como la final del paso anterior.\n",
    "print(\"El tiempo necesario para llegar al cubo fue de: \", tiempoTot, \"segundos\") "
   ]
  },
  {
   "cell_type": "code",
   "execution_count": null,
   "metadata": {
    "collapsed": true
   },
   "outputs": [],
   "source": []
  }
 ],
 "metadata": {
  "kernelspec": {
   "display_name": "Python 3",
   "language": "python",
   "name": "python3"
  },
  "language_info": {
   "codemirror_mode": {
    "name": "ipython",
    "version": 3
   },
   "file_extension": ".py",
   "mimetype": "text/x-python",
   "name": "python",
   "nbconvert_exporter": "python",
   "pygments_lexer": "ipython3",
   "version": "3.4.3"
  }
 },
 "nbformat": 4,
 "nbformat_minor": 0
}
