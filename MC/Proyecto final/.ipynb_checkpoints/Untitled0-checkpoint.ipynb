{
 "cells": [
  {
   "cell_type": "code",
   "execution_count": 3,
   "metadata": {
    "collapsed": false
   },
   "outputs": [
    {
     "name": "stdout",
     "output_type": "stream",
     "text": [
      "Populating the interactive namespace from numpy and matplotlib\n"
     ]
    }
   ],
   "source": [
    "%pylab inline"
   ]
  },
  {
   "cell_type": "code",
   "execution_count": 6,
   "metadata": {
    "collapsed": false
   },
   "outputs": [],
   "source": [
    "#Estas son las velocidades de onda en cada una de las cuerdas de una guitarra standart.\n",
    "v1=424.59\n",
    "v2=318.63\n",
    "v3=252.59\n",
    "v4=189.29\n",
    "v5=141.90\n",
    "v6=106.31\n",
    "\n",
    "tra0=darLongitud(1,329.63)\n",
    "tra1=darLongitud(1,349.23)\n",
    "tra2=darLongitud(1,369.99)\n",
    "tra3=darLongitud(1,392.0)\n",
    "tra4=darLongitud(1,415.3)\n",
    "tra5=darLongitud(1,440)\n",
    "tra6=darLongitud(1,466.16)\n",
    "tra7=darLongitud(1,493.88)\n",
    "tra8=darLongitud(1,523.25)\n",
    "tra9=darLongitud(1,554.37)\n",
    "tra10=darLongitud(1,587.33)\n",
    "tra11=darLongitud(1,622.25)\n",
    "tra12=darLongitud(1,659.26)\n",
    "tra13=darLongitud(1,698.46)"
   ]
  },
  {
   "cell_type": "code",
   "execution_count": 7,
   "metadata": {
    "collapsed": false
   },
   "outputs": [],
   "source": [
    "#Definimos una función que recibe de parámetro un número de cuerda y una frecuencia, y devuelve la longitud de la cuerda.\n",
    "def darLongitud(nc,f):\n",
    "    v=0\n",
    "    if(nc==1):\n",
    "        v=v1\n",
    "    if(nc==2):\n",
    "        v=v2\n",
    "    if(nc==3):\n",
    "        v=v3\n",
    "    if(nc==4):\n",
    "        v=v4\n",
    "    if(nc==5):\n",
    "        v=v5\n",
    "    if(nc==6):\n",
    "        v=v6\n",
    "    return v/(2*f)\n"
   ]
  },
  {
   "cell_type": "code",
   "execution_count": 18,
   "metadata": {
    "collapsed": false
   },
   "outputs": [],
   "source": [
    "def onda(t,f,nc,exi):\n",
    "    l=darLongitud(nc,f)\n",
    "    k=pi/(l)\n",
    "    om=2*pi*f\n",
    "    x=linspace(0,l,100)\n",
    "    if(exi==1):\n",
    "        A=1\n",
    "    else:\n",
    "        A=0\n",
    "    if(nc==1):\n",
    "        resp=A*0.002*e**(-50*t)*cos(om*t)*sin(k*x)-0.025\n",
    "        resp=append(resp,-0.025)\n",
    "    if(nc==2):\n",
    "        resp=A*0.002*e**(-50*t)*cos(om*t)*sin(k*x)-0.015\n",
    "        resp=append(resp,-0.015)\n",
    "    if(nc==3):\n",
    "        resp=A*0.002*e**(-50*t)*cos(om*t)*sin(k*x)-0.005\n",
    "        resp=append(resp,-0.005)\n",
    "    if(nc==4):\n",
    "        resp=A*0.002*e**(-50*t)*cos(om*t)*sin(k*x)+0.005\n",
    "        resp=append(resp,0.005)\n",
    "    if(nc==5):\n",
    "        resp=A*0.002*e**(-50*t)*cos(om*t)*sin(k*x)+0.015\n",
    "        resp=append(resp,0.015)\n",
    "    if(nc==6):\n",
    "        resp=A*0.002*e**(-50*t)*cos(om*t)*sin(k*x)+0.025\n",
    "        resp=append(resp,0.025)\n",
    "    x=append(x,tra0)\n",
    "    return x,resp"
   ]
  },
  {
   "cell_type": "code",
   "execution_count": 16,
   "metadata": {
    "collapsed": false
   },
   "outputs": [
    {
     "ename": "NameError",
     "evalue": "name 'tr0' is not defined",
     "output_type": "error",
     "traceback": [
      "\u001b[0;31m---------------------------------------------------------------------------\u001b[0m",
      "\u001b[0;31mNameError\u001b[0m                                 Traceback (most recent call last)",
      "\u001b[0;32m<ipython-input-16-0c918179164b>\u001b[0m in \u001b[0;36m<module>\u001b[0;34m()\u001b[0m\n\u001b[1;32m      3\u001b[0m \u001b[0;34m\u001b[0m\u001b[0m\n\u001b[1;32m      4\u001b[0m \u001b[0msubplot\u001b[0m\u001b[0;34m(\u001b[0m\u001b[0;36m2\u001b[0m\u001b[0;34m,\u001b[0m\u001b[0;36m2\u001b[0m\u001b[0;34m,\u001b[0m\u001b[0;36m1\u001b[0m\u001b[0;34m)\u001b[0m\u001b[0;34m\u001b[0m\u001b[0m\n\u001b[0;32m----> 5\u001b[0;31m \u001b[0mequis\u001b[0m\u001b[0;34m,\u001b[0m\u001b[0my\u001b[0m\u001b[0;34m=\u001b[0m\u001b[0monda\u001b[0m\u001b[0;34m(\u001b[0m\u001b[0;36m0\u001b[0m\u001b[0;34m,\u001b[0m\u001b[0;36m440\u001b[0m\u001b[0;34m,\u001b[0m\u001b[0;36m1\u001b[0m\u001b[0;34m,\u001b[0m\u001b[0;36m1\u001b[0m\u001b[0;34m)\u001b[0m\u001b[0;34m\u001b[0m\u001b[0m\n\u001b[0m\u001b[1;32m      6\u001b[0m \u001b[0mplot\u001b[0m\u001b[0;34m(\u001b[0m\u001b[0mequis\u001b[0m\u001b[0;34m,\u001b[0m\u001b[0my\u001b[0m\u001b[0;34m)\u001b[0m\u001b[0;34m\u001b[0m\u001b[0m\n\u001b[1;32m      7\u001b[0m \u001b[0mylim\u001b[0m\u001b[0;34m(\u001b[0m\u001b[0;34m-\u001b[0m\u001b[0;36m0.03\u001b[0m\u001b[0;34m,\u001b[0m\u001b[0;34m-\u001b[0m\u001b[0;36m0.02\u001b[0m\u001b[0;34m)\u001b[0m\u001b[0;34m\u001b[0m\u001b[0m\n",
      "\u001b[0;32m<ipython-input-15-6cc9a7e367d4>\u001b[0m in \u001b[0;36monda\u001b[0;34m(t, f, nc, exi)\u001b[0m\n\u001b[1;32m     26\u001b[0m         \u001b[0mresp\u001b[0m\u001b[0;34m=\u001b[0m\u001b[0mA\u001b[0m\u001b[0;34m*\u001b[0m\u001b[0;36m0.002\u001b[0m\u001b[0;34m*\u001b[0m\u001b[0me\u001b[0m\u001b[0;34m**\u001b[0m\u001b[0;34m(\u001b[0m\u001b[0;34m-\u001b[0m\u001b[0;36m50\u001b[0m\u001b[0;34m*\u001b[0m\u001b[0mt\u001b[0m\u001b[0;34m)\u001b[0m\u001b[0;34m*\u001b[0m\u001b[0mcos\u001b[0m\u001b[0;34m(\u001b[0m\u001b[0mom\u001b[0m\u001b[0;34m*\u001b[0m\u001b[0mt\u001b[0m\u001b[0;34m)\u001b[0m\u001b[0;34m*\u001b[0m\u001b[0msin\u001b[0m\u001b[0;34m(\u001b[0m\u001b[0mk\u001b[0m\u001b[0;34m*\u001b[0m\u001b[0mx\u001b[0m\u001b[0;34m)\u001b[0m\u001b[0;34m+\u001b[0m\u001b[0;36m0.025\u001b[0m\u001b[0;34m\u001b[0m\u001b[0m\n\u001b[1;32m     27\u001b[0m         \u001b[0mresp\u001b[0m\u001b[0;34m=\u001b[0m\u001b[0mappend\u001b[0m\u001b[0;34m(\u001b[0m\u001b[0mresp\u001b[0m\u001b[0;34m,\u001b[0m\u001b[0;36m0.025\u001b[0m\u001b[0;34m)\u001b[0m\u001b[0;34m\u001b[0m\u001b[0m\n\u001b[0;32m---> 28\u001b[0;31m     \u001b[0mx\u001b[0m\u001b[0;34m=\u001b[0m\u001b[0mappend\u001b[0m\u001b[0;34m(\u001b[0m\u001b[0mx\u001b[0m\u001b[0;34m,\u001b[0m\u001b[0mtr0\u001b[0m\u001b[0;34m)\u001b[0m\u001b[0;34m\u001b[0m\u001b[0m\n\u001b[0m\u001b[1;32m     29\u001b[0m     \u001b[0;32mreturn\u001b[0m \u001b[0mx\u001b[0m\u001b[0;34m,\u001b[0m\u001b[0mresp\u001b[0m\u001b[0;34m\u001b[0m\u001b[0m\n",
      "\u001b[0;31mNameError\u001b[0m: name 'tr0' is not defined"
     ]
    },
    {
     "data": {
      "image/png": "[encoded data removed]",
      "text/plain": [
       "<matplotlib.figure.Figure at 0x108da8eb8>"
      ]
     },
     "metadata": {},
     "output_type": "display_data"
    }
   ],
   "source": [
    "figure(figsize(15,5))\n",
    "\n",
    "\n",
    "subplot(2,2,1)\n",
    "equis,y=onda(0,440,1,1)\n",
    "plot(equis,y)\n",
    "ylim(-0.03,-0.02)\n",
    "xlim(0,t0)\n",
    "\n",
    "subplot(2,2,2)\n",
    "equis,y=onda(0.0005,440,1,1)\n",
    "plot(equis,y)\n",
    "ylim(-0.03,-0.02)\n",
    "xlim(0,t0)\n",
    "\n",
    "subplot(2,2,3)\n",
    "equis,y=onda(0.001,440,1,1)\n",
    "plot(equis,y)\n",
    "ylim(-0.03,-0.02)\n",
    "xlim(0,t0)\n",
    "\n",
    "subplot(2,2,4)\n",
    "equis,y=onda(0.0015,440,1,1)\n",
    "plot(equis,y)\n",
    "ylim(-0.03,-0.02)\n",
    "xlim(0,t0)"
   ]
  },
  {
   "cell_type": "code",
   "execution_count": 606,
   "metadata": {
    "collapsed": false
   },
   "outputs": [],
   "source": [
    "i=0\n",
    "history=[]\n",
    "j=0\n",
    "while(i<0.05):\n",
    "    equis,y=onda(i,440,1,1)\n",
    "    history.append([equis,y])\n",
    "    i+=0.0002\n",
    "    j+=1"
   ]
  },
  {
   "cell_type": "code",
   "execution_count": 21,
   "metadata": {
    "collapsed": false
   },
   "outputs": [],
   "source": [
    "\n",
    "\n",
    "trastes=[]\n",
    "i=0\n",
    "while(i<14):\n",
    "    trastes.append(eval(\"tra\"+str(i)))\n",
    "    i+=1\n",
    "\n",
    "cc=0.195\n",
    "rc=0.093/2\n"
   ]
  },
  {
   "cell_type": "code",
   "execution_count": 608,
   "metadata": {
    "collapsed": false
   },
   "outputs": [
    {
     "data": {
      "text/plain": [
       "[<matplotlib.lines.Line2D at 0x12fd51a20>]"
      ]
     },
     "execution_count": 608,
     "metadata": {},
     "output_type": "execute_result"
    },
    {
     "data": {
      "image/png": "[encoded data removed]",
      "text/plain": [
       "<matplotlib.figure.Figure at 0x12fbdfb70>"
      ]
     },
     "metadata": {},
     "output_type": "display_data"
    }
   ],
   "source": [
    "x=linspace(0,2*pi,100)\n",
    "fig2=figure(figsize(24,5.5))\n",
    "plot(rc*cos(x)+cc,rc*sin(x),c=\"black\")\n",
    "i=0\n",
    "while(i<14):\n",
    "    plot([trastes[i],trastes[i]],[-0.05,0.05],c='black')\n",
    "    i+=1\n",
    "plot([0,t0],[0.005,0.005],\"--\",c=\"gray\")\n",
    "plot([0,t0],[0.015,0.015],\"--\",c=\"gray\")\n",
    "plot([0,t0],[0.025,0.025],\"--\",c=\"gray\")\n",
    "plot([0,t0],[-0.005,-0.005],\"--\",c=\"gray\")\n",
    "plot([0,t0],[-0.015,-0.015],\"--\",c=\"gray\")\n",
    "plot([0,t0],[-0.025,-0.025],\"--\",c=\"gray\")"
   ]
  },
  {
   "cell_type": "code",
   "execution_count": 609,
   "metadata": {
    "collapsed": false
   },
   "outputs": [
    {
     "data": {
      "image/png": "[encoded data removed]",
      "text/plain": [
       "<matplotlib.figure.Figure at 0x12fd5b908>"
      ]
     },
     "metadata": {},
     "output_type": "display_data"
    }
   ],
   "source": [
    "figs=[]\n",
    "\n",
    "x=linspace(0,2*pi,100)\n",
    "fig2=figure(figsize(24,5.5))\n",
    "plot(rc*cos(x)+cc,rc*sin(x),c=\"black\")\n",
    "i=0\n",
    "while(i<14):\n",
    "    plot([trastes[i],trastes[i]],[-0.05,0.05],c='black')\n",
    "    i+=1\n",
    "plot([0,t0],[0.005,0.005],\"--\",c=\"gray\")\n",
    "plot([0,t0],[0.015,0.015],\"--\",c=\"gray\")\n",
    "plot([0,t0],[0.025,0.025],\"--\",c=\"gray\")\n",
    "plot([0,t0],[-0.005,-0.005],\"--\",c=\"gray\")\n",
    "plot([0,t0],[-0.015,-0.015],\"--\",c=\"gray\")\n",
    "plot([0,t0],[-0.025,-0.025],\"--\",c=\"gray\")\n",
    "\n",
    "for i in range(len(history)):\n",
    "    \n",
    "    plt2, =(plot(history[i][0],history[i][1],c='green'))\n",
    "    figs.append(array([plt2]))"
   ]
  },
  {
   "cell_type": "code",
   "execution_count": 566,
   "metadata": {
    "collapsed": false
   },
   "outputs": [],
   "source": [
    "import matplotlib.animation as animation\n",
    "anim = animation.ArtistAnimation(fig2, figs, interval=30, repeat_delay=3000,blit=True)\n",
    "anim.save('1Cuerda.mp4')"
   ]
  },
  {
   "cell_type": "code",
   "execution_count": 11,
   "metadata": {
    "collapsed": false
   },
   "outputs": [],
   "source": [
    "#Ahora se crea una función para tener varias frecuencias en el tiempo\n",
    "\n",
    "def cuerdaEnElTiempo(A,n,tif):\n",
    "    history=[]\n",
    "    if(A!=[]):\n",
    "        A0=A[:,0]\n",
    "        A1=A[:,1]\n",
    "        A2=A[:,2]\n",
    "        intervalos=[]\n",
    "        ii=0\n",
    "\n",
    "        \n",
    "        efes=0\n",
    "        while(efes<len(A2)):\n",
    "            i=0\n",
    "            while(i<A0[0]):\n",
    "                equis,y=onda(i,A2[efes],n,0)\n",
    "                history.append([equis,y])\n",
    "                i+=0.0002\n",
    "            \n",
    "            i=0 \n",
    "            while(i<(A1[efes]-A0[efes])):\n",
    "                equis,y=onda(i,A2[efes],n,1)\n",
    "                history.append([equis,y])\n",
    "                i+=0.0002\n",
    "            i=0\n",
    "            if(efes<(len(A2)-1)):\n",
    "                print(efes)\n",
    "                while(i<(A0[efes+1]-A1[efes])):\n",
    "                    equis,y=onda(i,A2[efes],n,0)\n",
    "                    history.append([equis,y])\n",
    "                    i+=0.0002\n",
    "            efes+=1\n",
    "    else:\n",
    "        i=0\n",
    "        while(i<tif):\n",
    "            equis,y=onda(i,200,n,0)\n",
    "            history.append([equis,y])\n",
    "            i+=0.0002\n",
    "    return history"
   ]
  },
  {
   "cell_type": "code",
   "execution_count": 715,
   "metadata": {
    "collapsed": false
   },
   "outputs": [],
   "source": [
    "prueba=zeros((3,3))\n",
    "prueba[0]=[0,0.1,440]\n",
    "prueba[1]=[0.2,0.3,466.16]\n",
    "prueba[2]=[0.3,0.5,493.18]"
   ]
  },
  {
   "cell_type": "code",
   "execution_count": 708,
   "metadata": {
    "collapsed": false
   },
   "outputs": [
    {
     "name": "stdout",
     "output_type": "stream",
     "text": [
      "[[  0.00000000e+00   1.00000000e-01   4.40000000e+02]\n",
      " [  2.00000000e-01   3.00000000e-01   4.66160000e+02]\n",
      " [  3.00000000e-01   5.00000000e-01   4.93180000e+02]]\n"
     ]
    }
   ],
   "source": [
    "print(prueba)"
   ]
  },
  {
   "cell_type": "code",
   "execution_count": 709,
   "metadata": {
    "collapsed": false
   },
   "outputs": [
    {
     "name": "stdout",
     "output_type": "stream",
     "text": [
      "0\n",
      "1\n"
     ]
    }
   ],
   "source": [
    "DataPrueba=cuerdaEnElTiempo(prueba,1,5)"
   ]
  },
  {
   "cell_type": "code",
   "execution_count": 697,
   "metadata": {
    "collapsed": false
   },
   "outputs": [
    {
     "data": {
      "image/png": "[encoded data removed]",
      "text/plain": [
       "<matplotlib.figure.Figure at 0x142254240>"
      ]
     },
     "metadata": {},
     "output_type": "display_data"
    }
   ],
   "source": [
    "figs=[]\n",
    "\n",
    "x=linspace(0,2*pi,100)\n",
    "fig2=figure(figsize(26,5.5))\n",
    "plot(rc*cos(x)+cc,rc*sin(x),c=\"black\")\n",
    "i=0\n",
    "while(i<14):\n",
    "    plot([trastes[i],trastes[i]],[-0.05,0.05],c='black')\n",
    "    i+=1\n",
    "plot([0,t0],[0.005,0.005],\"--\",c=\"gray\")\n",
    "plot([0,t0],[0.015,0.015],\"--\",c=\"gray\")\n",
    "plot([0,t0],[0.025,0.025],\"--\",c=\"gray\")\n",
    "plot([0,t0],[-0.005,-0.005],\"--\",c=\"gray\")\n",
    "plot([0,t0],[-0.015,-0.015],\"--\",c=\"gray\")\n",
    "plot([0,t0],[-0.025,-0.025],\"--\",c=\"gray\")\n",
    "axis(\"off\" )\n",
    "for i in range(len(DataPrueba)):\n",
    "    \n",
    "    plt2, =(plot(DataPrueba[i][0],DataPrueba[i][1],c='green'))\n",
    "    figs.append(array([plt2]))"
   ]
  },
  {
   "cell_type": "code",
   "execution_count": 681,
   "metadata": {
    "collapsed": false
   },
   "outputs": [],
   "source": [
    "import matplotlib.animation as animation\n",
    "anim = animation.ArtistAnimation(fig2, figs, interval=10, repeat_delay=3000,blit=True)\n",
    "anim.save('1Cuerda3Notas.mp4')"
   ]
  },
  {
   "cell_type": "code",
   "execution_count": 10,
   "metadata": {
    "collapsed": false
   },
   "outputs": [],
   "source": [
    "def playGuitar(A,tr0,trf):\n",
    "    cuerda1=[]\n",
    "    cuerda2=[]\n",
    "    cuerda3=[]\n",
    "    cuerda4=[]\n",
    "    cuerda5=[]\n",
    "    cuerda6=[]\n",
    "    for i in range(len(A[:,2])):\n",
    "        long1=darLongitud(1,A[i,2])\n",
    "        long2=darLongitud(2,A[i,2])\n",
    "        long3=darLongitud(3,A[i,2])\n",
    "        long4=darLongitud(4,A[i,2])\n",
    "        long5=darLongitud(5,A[i,2])\n",
    "        long6=darLongitud(6,A[i,2])\n",
    "        if(long1>((eval(\"tra\"+str(trf)))+0.01*(eval(\"tra\"+str(trf))))and long1<((eval(\"tra\"+str(tr0)))-0.01*(eval(\"tra\"+str(tr0))))):\n",
    "           cuerda1.append(A[i])\n",
    "        if(long2>((eval(\"tra\"+str(trf)))+0.01*(eval(\"tra\"+str(trf))))and long2<((eval(\"tra\"+str(tr0)))-0.01*(eval(\"tra\"+str(tr0))))):\n",
    "           cuerda1.append(A[i])\n",
    "        if(long3>((eval(\"tra\"+str(trf)))+0.01*(eval(\"tra\"+str(trf))))and long3<((eval(\"tra\"+str(tr0)))-0.01*(eval(\"tra\"+str(tr0))))):\n",
    "           cuerda1.append(A[i])\n",
    "        if(long4>((eval(\"tra\"+str(trf)))+0.01*(eval(\"tra\"+str(trf))))and long4<((eval(\"tra\"+str(tr0)))-0.01*(eval(\"tra\"+str(tr0))))):\n",
    "           cuerda1.append(A[i])\n",
    "        if(long5>((eval(\"tra\"+str(trf)))+0.01*(eval(\"tra\"+str(trf))))and long5<((eval(\"tra\"+str(tr0)))-0.01*(eval(\"tra\"+str(tr0))))):\n",
    "           cuerda1.append(A[i])\n",
    "        if(long6>((eval(\"tra\"+str(trf)))+0.01*(eval(\"tra\"+str(trf))))and long6<((eval(\"tra\"+str(tr0)))-0.01*(eval(\"tra\"+str(tr0))))):\n",
    "           cuerda1.append(A[i])\n",
    "    history1=cuerdaEnElTiempo(array(cuerda1),1,A[(len(A)-1),1])\n",
    "    print(cuerda1)\n",
    "    history2=cuerdaEnElTiempo(array(cuerda2),2,A[(len(A)-1),1])\n",
    "    history3=cuerdaEnElTiempo(array(cuerda3),3,A[(len(A)-1),1])\n",
    "    history4=cuerdaEnElTiempo(array(cuerda4),4,A[(len(A)-1),1])\n",
    "    history5=cuerdaEnElTiempo(array(cuerda5),5,A[(len(A)-1),1])\n",
    "    history6=cuerdaEnElTiempo(array(cuerda6),6,A[(len(A)-1),1])\n",
    "    \n",
    "    return (history1,history2,history3,history4,history5,history6)\n",
    "        "
   ]
  },
  {
   "cell_type": "code",
   "execution_count": 728,
   "metadata": {
    "collapsed": false
   },
   "outputs": [
    {
     "name": "stdout",
     "output_type": "stream",
     "text": [
      "\n",
      "\n",
      "\n",
      "0\n",
      "1\n",
      "[array([  0.00000000e+00,   1.00000000e-01,   4.40000000e+02]), array([  2.00000000e-01,   3.00000000e-01,   4.66160000e+02]), array([  3.00000000e-01,   5.00000000e-01,   4.93180000e+02])]\n",
      "[ 0.          0.00487362  0.00974725  0.01462087  0.01949449  0.02436811\n",
      "  0.02924174  0.03411536  0.03898898  0.0438626   0.04873623  0.05360985\n",
      "  0.05848347  0.06335709  0.06823072  0.07310434  0.07797796  0.08285158\n",
      "  0.08772521  0.09259883  0.09747245  0.10234607  0.1072197   0.11209332\n",
      "  0.11696694  0.12184056  0.12671419  0.13158781  0.13646143  0.14133506\n",
      "  0.14620868  0.1510823   0.15595592  0.16082955  0.16570317  0.17057679\n",
      "  0.17545041  0.18032404  0.18519766  0.19007128  0.1949449   0.19981853\n",
      "  0.20469215  0.20956577  0.21443939  0.21931302  0.22418664  0.22906026\n",
      "  0.23393388  0.23880751  0.24368113  0.24855475  0.25342837  0.258302\n",
      "  0.26317562  0.26804924  0.27292287  0.27779649  0.28267011  0.28754373\n",
      "  0.29241736  0.29729098  0.3021646   0.30703822  0.31191185  0.31678547\n",
      "  0.32165909  0.32653271  0.33140634  0.33627996  0.34115358  0.3460272\n",
      "  0.35090083  0.35577445  0.36064807  0.36552169  0.37039532  0.37526894\n",
      "  0.38014256  0.38501618  0.38988981  0.39476343  0.39963705  0.40451067\n",
      "  0.4093843   0.41425792  0.41913154  0.42400517  0.42887879  0.43375241\n",
      "  0.43862603  0.44349966  0.44837328  0.4532469   0.45812052  0.46299415\n",
      "  0.46786777  0.47274139  0.47761501  0.48248864  0.64404029]\n"
     ]
    }
   ],
   "source": [
    "h1,h2,h3,h4,h5,h6=playGuitar(prueba,4,8)\n",
    "print(h1[1][0])"
   ]
  },
  {
   "cell_type": "code",
   "execution_count": 729,
   "metadata": {
    "collapsed": false
   },
   "outputs": [
    {
     "data": {
      "image/png": "[encoded data removed]",
      "text/plain": [
       "<matplotlib.figure.Figure at 0x145d4c160>"
      ]
     },
     "metadata": {},
     "output_type": "display_data"
    }
   ],
   "source": [
    "figs=[]\n",
    "\n",
    "x=linspace(0,2*pi,100)\n",
    "fig2=figure(figsize(26,5.5))\n",
    "plot(rc*cos(x)+cc,rc*sin(x),c=\"black\")\n",
    "i=0\n",
    "while(i<14):\n",
    "    plot([trastes[i],trastes[i]],[-0.05,0.05],c='black')\n",
    "    i+=1\n",
    "plot([0,t0],[0.005,0.005],\"--\",c=\"gray\")\n",
    "plot([0,t0],[0.015,0.015],\"--\",c=\"gray\")\n",
    "plot([0,t0],[0.025,0.025],\"--\",c=\"gray\")\n",
    "plot([0,t0],[-0.005,-0.005],\"--\",c=\"gray\")\n",
    "plot([0,t0],[-0.015,-0.015],\"--\",c=\"gray\")\n",
    "plot([0,t0],[-0.025,-0.025],\"--\",c=\"gray\")\n",
    "axis(\"off\" )\n",
    "for i in range(len(DataPrueba)-1):\n",
    "    \n",
    "    plt2, =(plot(h1[i][0],h1[i][1],c='green'))\n",
    "    plt3, =(plot(h2[i][0],h2[i][1],c='green'))\n",
    "    plt4, =(plot(h3[i][0],h3[i][1],c='green'))\n",
    "    plt5, =(plot(h4[i][0],h4[i][1],c='green'))\n",
    "    plt6, =(plot(h5[i][0],h5[i][1],c='green'))\n",
    "    plt7, =(plot(h6[i][0],h6[i][1],c='green'))\n",
    "    \n",
    "    figs.append(array([plt2,plt3,plt4,plt5,plt6,plt7]))"
   ]
  },
  {
   "cell_type": "code",
   "execution_count": 730,
   "metadata": {
    "collapsed": false
   },
   "outputs": [],
   "source": [
    "import matplotlib.animation as animation\n",
    "anim = animation.ArtistAnimation(fig2, figs, interval=10, repeat_delay=3000,blit=True)\n",
    "anim.save('1Cuerda3Notas2.mp4')"
   ]
  },
  {
   "cell_type": "code",
   "execution_count": 12,
   "metadata": {
    "collapsed": false
   },
   "outputs": [
    {
     "name": "stdout",
     "output_type": "stream",
     "text": [
      "[[   3.       6.     440.971]]\n"
     ]
    }
   ],
   "source": [
    "result = zeros((1,3))\n",
    "result[0,0] = 3\n",
    "result[0,1] = 6\n",
    "result[0,2] = 440.971\n",
    "print(result)"
   ]
  },
  {
   "cell_type": "code",
   "execution_count": null,
   "metadata": {
    "collapsed": false
   },
   "outputs": [],
   "source": [
    "h1,h2,h3,h4,h5,h6=playGuitar(result,4,8)\n",
    "figs=[]\n",
    "\n",
    "x=linspace(0,2*pi,100)\n",
    "fig2=figure(figsize(26,5.5))\n",
    "#plot(rc*cos(x)+cc,rc*sin(x),c=\"black\")\n",
    "i=0\n",
    "while(i<14):\n",
    "    plot([trastes[i],trastes[i]],[-0.05,0.05],c='black')\n",
    "    i+=1\n",
    "plot([0,tra0],[0.005,0.005],\"--\",c=\"gray\")\n",
    "plot([0,tra0],[0.015,0.015],\"--\",c=\"gray\")\n",
    "plot([0,tra0],[0.025,0.025],\"--\",c=\"gray\")\n",
    "plot([0,tra0],[-0.005,-0.005],\"--\",c=\"gray\")\n",
    "plot([0,tra0],[-0.015,-0.015],\"--\",c=\"gray\")\n",
    "plot([0,tra0],[-0.025,-0.025],\"--\",c=\"gray\")\n",
    "axis(\"off\" )\n",
    "for i in range(len(h1)-1):\n",
    "    \n",
    "    plt2, =(plot(h1[i][0],h1[i][1],c='green'))\n",
    "    plt3, =(plot(h2[i][0],h2[i][1],c='green'))\n",
    "    plt4, =(plot(h3[i][0],h3[i][1],c='green'))\n",
    "    plt5, =(plot(h4[i][0],h4[i][1],c='green'))\n",
    "    plt6, =(plot(h5[i][0],h5[i][1],c='green'))\n",
    "    plt7, =(plot(h6[i][0],h6[i][1],c='green'))\n",
    "    \n",
    "    figs.append(array([plt2,plt3,plt4,plt5,plt6,plt7]))   "
   ]
  },
  {
   "cell_type": "code",
   "execution_count": null,
   "metadata": {
    "collapsed": true
   },
   "outputs": [],
   "source": []
  }
 ],
 "metadata": {
  "kernelspec": {
   "display_name": "Python 3",
   "language": "python",
   "name": "python3"
  },
  "language_info": {
   "codemirror_mode": {
    "name": "ipython",
    "version": 3
   },
   "file_extension": ".py",
   "mimetype": "text/x-python",
   "name": "python",
   "nbconvert_exporter": "python",
   "pygments_lexer": "ipython3",
   "version": "3.4.3"
  }
 },
 "nbformat": 4,
 "nbformat_minor": 0
}
